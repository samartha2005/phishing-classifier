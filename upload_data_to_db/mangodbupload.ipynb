{
 "cells": [
  {
   "cell_type": "code",
   "execution_count": 4,
   "id": "3ee9c9e6-0ba3-44c0-b2e7-ca3e36e009de",
   "metadata": {},
   "outputs": [],
   "source": [
    "import os \n",
    "from database_connect.databases.mongodb import MongoIO as mango"
   ]
  },
  {
   "cell_type": "code",
   "execution_count": null,
   "id": "891bd0a9-b964-473a-83cb-b1612c87742a",
   "metadata": {},
   "outputs": [],
   "source": []
  },
  {
   "cell_type": "code",
   "execution_count": null,
   "id": "3b1c37a6-e470-4ce0-95c1-5ed16c899516",
   "metadata": {},
   "outputs": [],
   "source": []
  },
  {
   "cell_type": "code",
   "execution_count": null,
   "id": "ab54d3c2-5f94-411e-b082-2da336bb6248",
   "metadata": {},
   "outputs": [],
   "source": []
  },
  {
   "cell_type": "code",
   "execution_count": null,
   "id": "268756c2-362a-47e2-b1b4-079ced6d731d",
   "metadata": {},
   "outputs": [],
   "source": []
  }
 ],
 "metadata": {
  "kernelspec": {
   "display_name": "Python 3 (ipykernel)",
   "language": "python",
   "name": "python3"
  },
  "language_info": {
   "codemirror_mode": {
    "name": "ipython",
    "version": 3
   },
   "file_extension": ".py",
   "mimetype": "text/x-python",
   "name": "python",
   "nbconvert_exporter": "python",
   "pygments_lexer": "ipython3",
   "version": "3.8.19"
  }
 },
 "nbformat": 4,
 "nbformat_minor": 5
}
